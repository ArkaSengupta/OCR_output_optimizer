{
 "cells": [
  {
   "cell_type": "code",
   "execution_count": 1,
   "id": "f56c1ea7",
   "metadata": {},
   "outputs": [
    {
     "name": "stdout",
     "output_type": "stream",
     "text": [
      "{'id': 'b6647d94-a70a-45a4-8c6f-dc5c15ac2786', 'text': 'Page', 'confidence': 98.5125, 'boundingBox': {'vertices': [{'x': 1215.94021572, 'y': 80.51687888000001}, {'x': 1283.507001, 'y': 80.51687888000001}, {'x': 1283.507001, 'y': 113.98039248}, {'x': 1215.94021572, 'y': 113.98039248}]}} 438\n",
      "Page 438\n",
      "<class 'tuple'> (1215.94021572, 80.51687888000001) 438\n"
     ]
    }
   ],
   "source": [
    "import json\n",
    "\n",
    "with open('test1.json') as f:\n",
    "   initial_data = json.load(f)\n",
    "\n",
    "with open('test2.json') as f2:\n",
    "   initial2_data = json.load(f2)\n",
    "# print(type(initial_data))\n",
    "# print(initial_data.keys())\n",
    "# print(type(initial_data['pages']))\n",
    "\n",
    "x = initial_data['pages'][0]['words']\n",
    "\n",
    "\n",
    "word_detail_list = []\n",
    "for i in x:\n",
    "    if i['text'] is not None:\n",
    "        word_detail_list.append(i)\n",
    "print(word_detail_list[0], len(word_detail_list))\n",
    "\n",
    "word_text_list = []\n",
    "for i in x:\n",
    "    if i['text'] is not None:\n",
    "        word_text_list.append(i['text'])\n",
    "print(word_text_list[0], len(word_text_list))\n",
    "\n",
    "word_vertex_list = []\n",
    "for i in x:\n",
    "    if i['text'] is not None:\n",
    "        q = i['boundingBox']['vertices'][0]['x']\n",
    "        w = i['boundingBox']['vertices'][0]['y']\n",
    "        word_vertex_list.append((q,w))\n",
    "print(type(word_vertex_list[0]),word_vertex_list[0], len(word_vertex_list))"
   ]
  },
  {
   "cell_type": "code",
   "execution_count": 2,
   "id": "41da00ac",
   "metadata": {},
   "outputs": [
    {
     "name": "stdout",
     "output_type": "stream",
     "text": [
      "{'id': '032267f5-fd70-4558-b00f-0b9856bcfb83', 'text': 'Page', 'confidence': 98.5125, 'boundingBox': {'vertices': [{'x': 1215.94021572, 'y': 80.51687888000001}, {'x': 1283.507001, 'y': 80.51687888000001}, {'x': 1283.507001, 'y': 113.98039248}, {'x': 1215.94021572, 'y': 113.98039248}]}} 467\n",
      "Page 467\n",
      "<class 'tuple'> (1215.94021572, 80.51687888000001) 467\n"
     ]
    }
   ],
   "source": [
    "x2 = initial2_data['pages'][0]['words']\n",
    "\n",
    "word_detail_list2 = []\n",
    "for i in x2:\n",
    "    if i['text'] is not None:\n",
    "        word_detail_list2.append(i)\n",
    "print(word_detail_list2[0], len(word_detail_list2))\n",
    "\n",
    "word_text_list2 = []\n",
    "for i in x2:\n",
    "    if i['text'] is not None:\n",
    "        word_text_list2.append(i['text'])\n",
    "print(word_text_list2[0], len(word_text_list2))\n",
    "\n",
    "word_vertex_list2 = []\n",
    "for i in x2:\n",
    "    if i['text'] is not None:\n",
    "        q = i['boundingBox']['vertices'][0]['x']\n",
    "        w = i['boundingBox']['vertices'][0]['y']\n",
    "        word_vertex_list2.append((q,w))\n",
    "print(type(word_vertex_list2[0]),word_vertex_list2[0], len(word_vertex_list2))"
   ]
  },
  {
   "cell_type": "code",
   "execution_count": 3,
   "id": "b347b504",
   "metadata": {},
   "outputs": [
    {
     "name": "stdout",
     "output_type": "stream",
     "text": [
      "Page\n",
      "413\n"
     ]
    }
   ],
   "source": [
    "from nltk.corpus import stopwords\n",
    "stop_words = set(stopwords.words('english'))\n",
    "better_words_detail = []\n",
    "\n",
    "for i in word_detail_list:\n",
    "    if i['text'] not in stop_words:\n",
    "        better_words_detail.append(i)\n",
    "len(better_words_detail)\n",
    "\n",
    "a = [j['text'] for j in better_words_detail]\n",
    "print(a[0])\n",
    "print(len(a))\n",
    "# better_words_detail2 = []\n",
    "\n",
    "# for i in word_detail_list2:\n",
    "#     if i['text'] not in stop_words:\n",
    "#         better_words_detail2.append(i)\n",
    "# len(better_words_detail2)\n",
    "\n",
    "# a2 = [j['text'] for j in better_words_detail]\n",
    "# print(a2[0])"
   ]
  },
  {
   "cell_type": "code",
   "execution_count": 6,
   "id": "20e2fe77",
   "metadata": {},
   "outputs": [
    {
     "name": "stdout",
     "output_type": "stream",
     "text": [
      "438 438 <class 'list'>\n",
      "467 467 <class 'list'>\n"
     ]
    }
   ],
   "source": [
    "def dist_cal(x1,y1, x2,y2):\n",
    "    return (((x1-x2)**2)+((y1-y2)**2))**0.5\n",
    "\n",
    "# word_vertex_list = [(1,1), (2,1), (1,3)]\n",
    "v = word_vertex_list\n",
    "v2 = word_vertex_list2\n",
    "\n",
    "def vertexl_to_graph(v):\n",
    "    l = len(v)\n",
    "    g = []\n",
    "    for i in range(l):\n",
    "        g.append([])\n",
    "        for j in range(l):\n",
    "            c = dist_cal(*v[i], *v[j])\n",
    "            g[i].append(c)\n",
    "    return g\n",
    "\n",
    "g = vertexl_to_graph(v)\n",
    "g2 = vertexl_to_graph(v2)\n",
    "\n",
    "print(len(g), len(g[0]), type(g))\n",
    "print(len(g2), len(g2[0]), type(g2))"
   ]
  },
  {
   "cell_type": "code",
   "execution_count": 7,
   "id": "d4548810",
   "metadata": {},
   "outputs": [],
   "source": [
    "import random\n",
    "\n",
    "randlist = []\n",
    "def create_random_vertex_list(n):\n",
    "    for i in range(n):\n",
    "        a = random.randrange(0, 10)\n",
    "        b = random.randrange(0, 10)\n",
    "        randlist.append((a,b))\n",
    "#   print(randlist)\n",
    "    return randlist\n",
    "g2r = create_random_vertex_list(10)\n",
    "g2 = vertexl_to_graph(g2r)\n"
   ]
  },
  {
   "cell_type": "code",
   "execution_count": 5,
   "id": "d97d8c73",
   "metadata": {},
   "outputs": [
    {
     "name": "stdout",
     "output_type": "stream",
     "text": [
      "Objective: 56 miles\n",
      "Route for vehicle 0:\n",
      " 0 -> 36 -> 6 -> 52 -> 35 -> 14 -> 46 -> 51 -> 43 -> 50 -> 29 -> 9 -> 58 -> 44 -> 21 -> 1 -> 7 -> 31 -> 11 -> 16 -> 33 -> 17 -> 34 -> 3 -> 53 -> 57 -> 38 -> 37 -> 56 -> 40 -> 49 -> 47 -> 15 -> 19 -> 42 -> 41 -> 26 -> 55 -> 20 -> 54 -> 59 -> 8 -> 24 -> 28 -> 13 -> 5 -> 2 -> 4 -> 12 -> 45 -> 10 -> 25 -> 48 -> 27 -> 23 -> 32 -> 39 -> 18 -> 30 -> 22 -> 0\n",
      "\n",
      "list - out -  [0, 36, 6, 52, 35, 14, 46, 51, 43, 50, 29, 9, 58, 44, 21, 1, 7, 31, 11, 16, 33, 17, 34, 3, 53, 57, 38, 37, 56, 40, 49, 47, 15, 19, 42, 41, 26, 55, 20, 54, 59, 8, 24, 28, 13, 5, 2, 4, 12, 45, 10, 25, 48, 27, 23, 32, 39, 18, 30, 22]\n"
     ]
    }
   ],
   "source": [
    "from ortools.constraint_solver import routing_enums_pb2\n",
    "from ortools.constraint_solver import pywrapcp\n",
    "\n",
    "\n",
    "def create_data_model():\n",
    "    \"\"\"Stores the data for the problem.\"\"\"\n",
    "    \n",
    "    ex1 = create_random_vertex_list(50)\n",
    "    ex2 = vertexl_to_graph(ex1)\n",
    "    \n",
    "    data = {}\n",
    "    data['distance_matrix'] = ex2\n",
    "    data['num_vehicles'] = 1\n",
    "    data['depot'] = 0\n",
    "    return data\n",
    "\n",
    "\n",
    "def print_solution(manager, routing, solution):\n",
    "    sol_list = []                                                  #Added later\n",
    "    \"\"\"Prints solution on console.\"\"\"\n",
    "    print('Objective: {} miles'.format(solution.ObjectiveValue()))\n",
    "    index = routing.Start(0)\n",
    "    plan_output = 'Route for vehicle 0:\\n'\n",
    "    route_distance = 0\n",
    "    while not routing.IsEnd(index):\n",
    "        plan_output += ' {} ->'.format(manager.IndexToNode(index))\n",
    "        sol_list.append(manager.IndexToNode(index))                 #Added later\n",
    "        previous_index = index\n",
    "        index = solution.Value(routing.NextVar(index))\n",
    "        route_distance += routing.GetArcCostForVehicle(previous_index, index, 0)\n",
    "    plan_output += ' {}\\n'.format(manager.IndexToNode(index))\n",
    "    print(plan_output)\n",
    "    plan_output += 'Route distance: {}miles\\n'.format(route_distance)\n",
    "    print('list - out - ', sol_list)                                 #Added later\n",
    "\n",
    "\"\"\"Entry point of the program.\"\"\"\n",
    "# Instantiate the data problem.\n",
    "data = create_data_model()\n",
    "\n",
    "# Create the routing index manager.\n",
    "manager = pywrapcp.RoutingIndexManager(len(data['distance_matrix']),\n",
    "                                       data['num_vehicles'], data['depot'])\n",
    "\n",
    "# Create Routing Model.\n",
    "routing = pywrapcp.RoutingModel(manager)\n",
    "\n",
    "\n",
    "def distance_callback(from_index, to_index):\n",
    "    \"\"\"Returns the distance between the two nodes.\"\"\"\n",
    "    \n",
    "    # Convert from routing variable Index to distance matrix NodeIndex.\n",
    "    from_node = manager.IndexToNode(from_index)\n",
    "    to_node = manager.IndexToNode(to_index)\n",
    "    return data['distance_matrix'][from_node][to_node]\n",
    "\n",
    "transit_callback_index = routing.RegisterTransitCallback(distance_callback)\n",
    "\n",
    "# Define cost of each arc.\n",
    "routing.SetArcCostEvaluatorOfAllVehicles(transit_callback_index)\n",
    "\n",
    "# Setting first solution heuristic.\n",
    "search_parameters = pywrapcp.DefaultRoutingSearchParameters()\n",
    "search_parameters.first_solution_strategy = (\n",
    "    routing_enums_pb2.FirstSolutionStrategy.PATH_CHEAPEST_ARC)\n",
    "\n",
    "# Solve the problem.\n",
    "solution = routing.SolveWithParameters(search_parameters)\n",
    "\n",
    "# Print solution on console.\n",
    "if solution:\n",
    "    print_solution(manager, routing, solution)"
   ]
  },
  {
   "cell_type": "code",
   "execution_count": 6,
   "id": "0579ae46",
   "metadata": {},
   "outputs": [
    {
     "data": {
      "image/png": "[encoded data removed]",
      "text/plain": [
       "<Figure size 432x288 with 1 Axes>"
      ]
     },
     "metadata": {
      "needs_background": "light"
     },
     "output_type": "display_data"
    },
    {
     "data": {
      "image/png": "[encoded data removed]",
      "text/plain": [
       "<Figure size 432x288 with 1 Axes>"
      ]
     },
     "metadata": {
      "needs_background": "light"
     },
     "output_type": "display_data"
    }
   ],
   "source": [
    "import matplotlib.pyplot as plt\n",
    "\n",
    "rectangle = [(0,0),(0,1),(1,1),(1,0)]\n",
    "hexagon = [(0,0),(0,1),(1,2),(2,1),(2,0),(1,-1)]\n",
    "l_shape = [(0,0),(0,3),(1,3),(1,1),(3,1),(3,0)]\n",
    "concave = [(0,0),(0,3),(1,3),(1,1),(2,1),(2,3),(3,3),(3,0)]\n",
    "\n",
    "plt.plot(*zip(*(rectangle+rectangle[:1])), marker='o')\n",
    "automin, automax = plt.xlim()\n",
    "plt.xlim(automin-0.5, automax+0.5)\n",
    "automin, automax = plt.ylim()\n",
    "plt.ylim(automin-0.5, automax+0.5)\n",
    "plt.savefig(\"{}.png\".format('rec1'))\n",
    "plt.show()\n",
    "\n",
    "plt.plot(*zip(*(l_shape+l_shape[:1])), marker='o')\n",
    "\n",
    "automin, automax = plt.xlim()\n",
    "plt.xlim(automin-0.5, automax+0.5)\n",
    "automin, automax = plt.ylim()\n",
    "plt.ylim(automin-0.5, automax+0.5)\n",
    "plt.savefig(\"{}.png\".format('recomp1'))\n",
    "plt.show()\n",
    "\n",
    "for points in [word_vertex_list2]:\n",
    "    plt.plot(*zip(*(points+points[:1])), marker='o')\n",
    "\n",
    "    automin, automax = plt.xlim()\n",
    "    plt.xlim(automin-0.5, automax+0.5)\n",
    "    automin, automax = plt.ylim()\n",
    "    plt.ylim(automin-0.5, automax+0.5)\n",
    "\n",
    "    plt.show()"
   ]
  },
  {
   "cell_type": "code",
   "execution_count": null,
   "id": "d799e277",
   "metadata": {},
   "outputs": [],
   "source": [
    "# import cv2\n",
    "\n",
    "# sift = cv2.SIFT_create()\n",
    "\n",
    "# bf = cv2.BFMatcher(cv2.NORM_L1, crossCheck=True)\n",
    "\n",
    "# img1=cv2.imread('rec1.png')\n",
    "# img2=cv2.imread('recomp1.png')\n",
    "\n",
    "# img1=cv2.cvtColor(img1, cv2.COLOR_BGR2GRAY)\n",
    "# img2=cv2.cvtColor(img2, cv2.COLOR_BGR2GRAY)\n",
    "\n",
    "# kp1, des1 = sift.detectAndCompute(img1,None)\n",
    "# kp2, des2 = sift.detectAndCompute(img2,None)\n",
    "\n",
    "# matches = bf.match(des1,des2)\n",
    "# matches = sorted(matches, key = lambda x:x.distance)\n",
    "\n",
    "# img3 = cv2.drawMatches(img1, kp1, img2, kp2, matches[300:600], img2)\n",
    "# cv2.imshow('SIFT', img3)\n",
    "# cv2.waitKey(0)\n",
    "# cv2.destroyALLWindows()"
   ]
  },
  {
   "cell_type": "code",
   "execution_count": 1,
   "id": "4e96210f",
   "metadata": {},
   "outputs": [
    {
     "name": "stdout",
     "output_type": "stream",
     "text": [
      "Similarity using ORB is:  0.9387755102040817\n",
      "Similarity using SSIM is:  0.8596074016884189\n"
     ]
    },
    {
     "name": "stderr",
     "output_type": "stream",
     "text": [
      "C:\\Users\\riddh\\anaconda3\\envs\\BDS\\lib\\site-packages\\skimage\\_shared\\utils.py:293: UserWarning: Inputs have mismatched dtype.  Setting data_range based on im1.dtype.\n",
      "  return func(*args, **kwargs)\n"
     ]
    }
   ],
   "source": [
    "\"\"\"\n",
    "Comparing images using ORB/SIFT feature detectors\n",
    "and structural similarity index.\n",
    "\"\"\"\n",
    "\n",
    "\n",
    "from skimage.metrics import structural_similarity\n",
    "import cv2\n",
    "\n",
    "#Works well with images of different dimensions\n",
    "def orb_sim(img1, img2):\n",
    "  # SIFT is no longer available in cv2 so using ORB\n",
    "  orb = cv2.ORB_create()\n",
    "\n",
    "  # detect keypoints and descriptors\n",
    "  kp_a, desc_a = orb.detectAndCompute(img1, None)\n",
    "  kp_b, desc_b = orb.detectAndCompute(img2, None)\n",
    "\n",
    "  # define the bruteforce matcher object\n",
    "  bf = cv2.BFMatcher(cv2.NORM_HAMMING, crossCheck=True)\n",
    "    \n",
    "  #perform matches. \n",
    "  matches = bf.match(desc_a, desc_b)\n",
    "  #Look for similar regions with distance < 50. Goes from 0 to 100 so pick a number between.\n",
    "  similar_regions = [i for i in matches if i.distance < 50]  \n",
    "  if len(matches) == 0:\n",
    "    return 0\n",
    "  return len(similar_regions) / len(matches)\n",
    "\n",
    "\n",
    "#Needs images to be same dimensions\n",
    "def structural_sim(img1, img2):\n",
    "\n",
    "  sim, diff = structural_similarity(img1, img2, full=True)\n",
    "  return sim\n",
    "\n",
    "img00 = cv2.imread('rec1.png', 0)\n",
    "img01 = cv2.imread('recomp1.png', 0)\n",
    "\n",
    "img1 = cv2.imread('rec1.png', 0)  # 714 x 901 pixels\n",
    "# img2 = cv2.imread('images/BSE_noisy.png', 0)  # 714 x 901 pixels\n",
    "img3 = cv2.imread('recomp1.png', 0)  # 203 x 256 pixels\n",
    "# img4 = cv2.imread('images/different_img.png', 0)  # 203 x 256 pixels\n",
    "\n",
    "orb_similarity = orb_sim(img1, img3)  #1.0 means identical. Lower = not similar\n",
    "\n",
    "print(\"Similarity using ORB is: \", orb_similarity)\n",
    "#Resize for SSIM\n",
    "from skimage.transform import resize\n",
    "img5 = resize(img3, (img1.shape[0], img1.shape[1]), anti_aliasing=True, preserve_range=True)\n",
    "\n",
    "ssim = structural_sim(img1, img5) #1.0 means identical. Lower = not similar\n",
    "print(\"Similarity using SSIM is: \", ssim)"
   ]
  },
  {
   "cell_type": "code",
   "execution_count": null,
   "id": "076a7ae0",
   "metadata": {},
   "outputs": [],
   "source": []
  },
  {
   "cell_type": "code",
   "execution_count": null,
   "id": "3285ee0a",
   "metadata": {},
   "outputs": [],
   "source": []
  }
 ],
 "metadata": {
  "kernelspec": {
   "display_name": "Python 3 (ipykernel)",
   "language": "python",
   "name": "python3"
  },
  "language_info": {
   "codemirror_mode": {
    "name": "ipython",
    "version": 3
   },
   "file_extension": ".py",
   "mimetype": "text/x-python",
   "name": "python",
   "nbconvert_exporter": "python",
   "pygments_lexer": "ipython3",
   "version": "3.8.3"
  }
 },
 "nbformat": 4,
 "nbformat_minor": 5
}
