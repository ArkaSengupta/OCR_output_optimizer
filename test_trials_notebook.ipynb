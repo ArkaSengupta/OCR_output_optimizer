{
 "cells": [
  {
   "cell_type": "code",
   "execution_count": 1,
   "id": "3b61a658",
   "metadata": {},
   "outputs": [
    {
     "name": "stdout",
     "output_type": "stream",
     "text": [
      "<class 'dict'>\n"
     ]
    }
   ],
   "source": [
    "import json\n",
    "\n",
    "with open('test1a.json') as f:\n",
    "   data_test1 = json.load(f)\n",
    "with open('test2a.json') as f:\n",
    "   data_test2 = json.load(f)\n",
    "\n",
    "print(type(data_test1))"
   ]
  },
  {
   "cell_type": "code",
   "execution_count": 2,
   "id": "22868a74",
   "metadata": {
    "scrolled": true
   },
   "outputs": [
    {
     "name": "stdout",
     "output_type": "stream",
     "text": [
      "dict_keys(['transactionId', 'ocrClient', 'extractionType', 'pages'])\n",
      "<class 'list'>\n",
      "!\"#$%&'()*+,-./:;<=>?@[\\]^_`{|}~\n",
      "99 ['Page', 'No', 'HDFC', 'BANK', 'Account', 'Branch', 'CHANDA', 'NAGAR', 'We', 'understand', 'world', 'Address', 'GROUND', 'A', 'K', 'BESIDE', 'ELEPHONE', 'MICRO', 'TECHNOLOGIES', 'City', 'HYDERABAD', 'State', 'TELANGANA', 'HNO', 'Phone', 'SHOP', 'NO', 'CHINNAM', 'BALAJI', 'OD', 'Limit', 'TOWERS', 'Currency', 'INR', 'Email', 'Cust', 'ID', 'ANDHRA', 'PRADESH', 'INDIA', 'CAGEN', 'Open', 'Date', 'JOINT', 'Status', 'Regular', 'MICR', 'Code', 'Product', 'Registered', 'From', 'To', 'Statement', 'account', 'CARDS SETTL', 'IB', 'FUNDS', 'TRANSFER', 'EDC', 'RENTAL', 'NEFT', 'ABDUL', 'IMPS', 'CARDS', 'SETTL', 'CASH', 'DEP', 'LIMITED', 'Closing', 'balance', 'includes', 'funds', 'earmarked', 'hold', 'uncleared', 'Contents', 'statement', 'considered', 'correct', 'error', 'reported', 'within', 'days', 'receipt', 'The', 'address', 'record', 'Bank', 'day', 'requesting', 'Service', 'Tax', 'Registration', 'OTHER', 'SERVICES', 'Office', 'Bapat', 'Parel', 'Mumbai']\n"
     ]
    }
   ],
   "source": [
    "print(data_test1.keys())\n",
    "print(type(data_test1['pages']))\n",
    "\n",
    "x1 = data_test1['pages'][0]['words']\n",
    "x2 = data_test1['pages'][0]['words']\n",
    "\n",
    "word_detail_list1 = []\n",
    "word_detail_list2 = []\n",
    "\n",
    "def create_word_detail_list(x, word_detail_list):\n",
    "    for i in x:\n",
    "        if i['text'] is not None:\n",
    "            word_detail_list.append(i)\n",
    "\n",
    "create_word_detail_list(x1, word_detail_list1)\n",
    "create_word_detail_list(x2, word_detail_list2)\n",
    "\n",
    "\n",
    "word_text_list1 = []\n",
    "word_text_list2 = []\n",
    "\n",
    "def create_word_text_list(x, word_text_list):\n",
    "    for i in x:\n",
    "        if i['text'] is not None:\n",
    "            word_text_list.append(i['text'])\n",
    "\n",
    "create_word_text_list(x1, word_text_list1)\n",
    "create_word_text_list(x2, word_text_list2)\n",
    "\n",
    "word_vertex_list1 = []\n",
    "word_vertex_list2 = []\n",
    "\n",
    "def create_word_vertex_list(x, word_vertex_list):\n",
    "    for i in x:\n",
    "        if i['text'] is not None:\n",
    "            q = i['boundingBox']['vertices'][0]['x']\n",
    "            w = i['boundingBox']['vertices'][0]['y']\n",
    "            word_vertex_list.append((q,w))\n",
    "\n",
    "create_word_vertex_list(x1, word_vertex_list1)\n",
    "create_word_vertex_list(x2, word_vertex_list2)\n",
    "\n",
    "from nltk.corpus import stopwords\n",
    "\n",
    "stop_words = set(stopwords.words('english'))\n",
    "\n",
    "better_words_text_list1 = []\n",
    "better_words_text_list2 = []\n",
    "\n",
    "def create_better_words_text_list(word_text_list, better_words_text_list):\n",
    "    for i in word_text_list:\n",
    "        if i not in stop_words:\n",
    "            better_words_text_list.append(i)\n",
    "\n",
    "create_better_words_text_list(word_text_list1, better_words_text_list1)\n",
    "create_better_words_text_list(word_text_list2, better_words_text_list2)\n",
    "\n",
    "# def create_better_words_text_list(word_text_list):\n",
    "#     a = []\n",
    "#     for i in word_text_list:\n",
    "#         if i not in stop_words:\n",
    "#             a.append(i)\n",
    "#     return a\n",
    "\n",
    "# better_words_text_list1 = create_better_words_text_list(word_text_list1)\n",
    "# better_words_text_list2 = create_better_words_text_list(word_text_list2)\n",
    "\n",
    "popularity_index_dict = {}\n",
    "\n",
    "def train_pid(word_text_list):\n",
    "    for i in word_text_list:\n",
    "        if i in popularity_index_dict:\n",
    "            popularity_index_dict[i] += 1\n",
    "        else:\n",
    "            popularity_index_dict[i] = 1\n",
    "\n",
    "train_pid(better_words_text_list1)\n",
    "train_pid(better_words_text_list2)\n",
    "\n",
    "# print(popularity_index_dict['Page'])\n",
    "\n",
    "test_final_word_list = [x for x in popularity_index_dict if popularity_index_dict[x] >= 2]\n",
    "\n",
    "# from string import punctuation\n",
    "# print(punctuation)\n",
    "\n",
    "punctuation = \"!\\\"#$%&'()*+,-./:;<=>?@[\\\\]^_`{|}~\"\n",
    "print(punctuation)\n",
    "\n",
    "test_final_word_list_re = []\n",
    "\n",
    "for i in test_final_word_list:\n",
    "    if not (any(chr.isdigit() for chr in i)):\n",
    "        if not (any(p in i for p in punctuation)):\n",
    "            test_final_word_list_re.append(i)\n",
    "\n",
    "print(len(test_final_word_list_re),test_final_word_list_re)\n",
    "\n"
   ]
  },
  {
   "cell_type": "code",
   "execution_count": 3,
   "id": "23eef833",
   "metadata": {},
   "outputs": [
    {
     "name": "stdout",
     "output_type": "stream",
     "text": [
      "pre_image_check_word_detail_list -  137 137\n",
      "pre_image_check_word_vertex_list -  137 137\n"
     ]
    }
   ],
   "source": [
    "pre_image_check_word_detail_list1 = []\n",
    "pre_image_check_word_detail_list2 = []\n",
    "\n",
    "def create_final_word_detail_list(word_detail_list, pre_image_check_word_detail_list):\n",
    "    for i in word_detail_list:\n",
    "        if i['text'] in test_final_word_list_re:\n",
    "            pre_image_check_word_detail_list.append(i)\n",
    "\n",
    "create_final_word_detail_list(word_detail_list1, pre_image_check_word_detail_list1)\n",
    "create_final_word_detail_list(word_detail_list2, pre_image_check_word_detail_list2)\n",
    "\n",
    "print('pre_image_check_word_detail_list - ',len(pre_image_check_word_detail_list1), len(pre_image_check_word_detail_list2))\n",
    "\n",
    "pre_image_check_word_vertex_list1 = []\n",
    "pre_image_check_word_vertex_list2 = []\n",
    "\n",
    "create_word_vertex_list(pre_image_check_word_detail_list1, pre_image_check_word_vertex_list1)\n",
    "create_word_vertex_list(pre_image_check_word_detail_list2, pre_image_check_word_vertex_list2)\n",
    "\n",
    "print('pre_image_check_word_vertex_list - ', len(pre_image_check_word_vertex_list1), len(pre_image_check_word_vertex_list2))"
   ]
  },
  {
   "cell_type": "code",
   "execution_count": 4,
   "id": "8b438402",
   "metadata": {},
   "outputs": [
    {
     "name": "stdout",
     "output_type": "stream",
     "text": [
      "137 137\n",
      "137 137 <class 'list'>\n"
     ]
    }
   ],
   "source": [
    "def dist_cal(x1,y1, x2,y2):\n",
    "    return (((x1-x2)**2)+((y1-y2)**2))**0.5\n",
    "\n",
    "# word_vertex_list = [(1,1), (2,1), (1,3)]\n",
    "def vertexl_to_graph(v):\n",
    "    l = len(v)\n",
    "    g = []\n",
    "    for i in range(l):\n",
    "        g.append([])\n",
    "        for j in range(l):\n",
    "            c = dist_cal(*v[i], *v[j])\n",
    "            g[i].append(c)\n",
    "    return g\n",
    "\n",
    "print(len(pre_image_check_word_vertex_list1), len(pre_image_check_word_vertex_list2))\n",
    "\n",
    "pre_image_check_word_graph1 = vertexl_to_graph(pre_image_check_word_vertex_list1)\n",
    "pre_image_check_word_graph2 = vertexl_to_graph(pre_image_check_word_vertex_list2)\n",
    "\n",
    "print(len(pre_image_check_word_graph1), len(pre_image_check_word_graph1[0]), type(pre_image_check_word_graph1))\n"
   ]
  },
  {
   "cell_type": "code",
   "execution_count": 36,
   "id": "34d2dbf7",
   "metadata": {},
   "outputs": [
    {
     "name": "stdout",
     "output_type": "stream",
     "text": [
      "Objective: 18315 miles\n",
      "Route for vehicle 0:\n",
      " 0 -> 1 -> 4 -> 11 -> 5 -> 21 -> 23 -> 28 -> 34 -> 33 -> 38 -> 40 -> 42 -> 47 -> 53 -> 57 -> 64 -> 58 -> 54 -> 51 -> 48 -> 50 -> 43 -> 39 -> 24 -> 22 -> 17 -> 15 -> 12 -> 6 -> 7 -> 16 -> 18 -> 13 -> 14 -> 49 -> 56 -> 60 -> 59 -> 55 -> 65 -> 122 -> 121 -> 120 -> 119 -> 118 -> 117 -> 116 -> 106 -> 115 -> 114 -> 105 -> 113 -> 129 -> 136 -> 135 -> 128 -> 104 -> 112 -> 111 -> 134 -> 103 -> 110 -> 133 -> 132 -> 127 -> 126 -> 108 -> 125 -> 131 -> 124 -> 130 -> 123 -> 107 -> 99 -> 96 -> 100 -> 97 -> 92 -> 89 -> 90 -> 91 -> 94 -> 93 -> 98 -> 101 -> 109 -> 102 -> 95 -> 88 -> 87 -> 86 -> 85 -> 84 -> 83 -> 82 -> 81 -> 80 -> 79 -> 77 -> 78 -> 76 -> 75 -> 74 -> 72 -> 73 -> 71 -> 68 -> 69 -> 70 -> 67 -> 66 -> 63 -> 61 -> 62 -> 52 -> 44 -> 41 -> 35 -> 29 -> 25 -> 30 -> 36 -> 45 -> 46 -> 32 -> 27 -> 37 -> 31 -> 20 -> 26 -> 19 -> 8 -> 9 -> 2 -> 3 -> 10 -> 0\n",
      "\n",
      "list - out -  [0, 1, 4, 11, 5, 21, 23, 28, 34, 33, 38, 40, 42, 47, 53, 57, 64, 58, 54, 51, 48, 50, 43, 39, 24, 22, 17, 15, 12, 6, 7, 16, 18, 13, 14, 49, 56, 60, 59, 55, 65, 122, 121, 120, 119, 118, 117, 116, 106, 115, 114, 105, 113, 129, 136, 135, 128, 104, 112, 111, 134, 103, 110, 133, 132, 127, 126, 108, 125, 131, 124, 130, 123, 107, 99, 96, 100, 97, 92, 89, 90, 91, 94, 93, 98, 101, 109, 102, 95, 88, 87, 86, 85, 84, 83, 82, 81, 80, 79, 77, 78, 76, 75, 74, 72, 73, 71, 68, 69, 70, 67, 66, 63, 61, 62, 52, 44, 41, 35, 29, 25, 30, 36, 45, 46, 32, 27, 37, 31, 20, 26, 19, 8, 9, 2, 3, 10]\n",
      "output_tsp_sol_order_for_image -  137\n",
      "Objective: 18315 miles\n",
      "Route for vehicle 0:\n",
      " 0 -> 1 -> 4 -> 11 -> 5 -> 21 -> 23 -> 28 -> 34 -> 33 -> 38 -> 40 -> 42 -> 47 -> 53 -> 57 -> 64 -> 58 -> 54 -> 51 -> 48 -> 50 -> 43 -> 39 -> 24 -> 22 -> 17 -> 15 -> 12 -> 6 -> 7 -> 16 -> 18 -> 13 -> 14 -> 49 -> 56 -> 60 -> 59 -> 55 -> 65 -> 122 -> 121 -> 120 -> 119 -> 118 -> 117 -> 116 -> 106 -> 115 -> 114 -> 105 -> 113 -> 129 -> 136 -> 135 -> 128 -> 104 -> 112 -> 111 -> 134 -> 103 -> 110 -> 133 -> 132 -> 127 -> 126 -> 108 -> 125 -> 131 -> 124 -> 130 -> 123 -> 107 -> 99 -> 96 -> 100 -> 97 -> 92 -> 89 -> 90 -> 91 -> 94 -> 93 -> 98 -> 101 -> 109 -> 102 -> 95 -> 88 -> 87 -> 86 -> 85 -> 84 -> 83 -> 82 -> 81 -> 80 -> 79 -> 77 -> 78 -> 76 -> 75 -> 74 -> 72 -> 73 -> 71 -> 68 -> 69 -> 70 -> 67 -> 66 -> 63 -> 61 -> 62 -> 52 -> 44 -> 41 -> 35 -> 29 -> 25 -> 30 -> 36 -> 45 -> 46 -> 32 -> 27 -> 37 -> 31 -> 20 -> 26 -> 19 -> 8 -> 9 -> 2 -> 3 -> 10 -> 0\n",
      "\n",
      "list - out -  [0, 1, 4, 11, 5, 21, 23, 28, 34, 33, 38, 40, 42, 47, 53, 57, 64, 58, 54, 51, 48, 50, 43, 39, 24, 22, 17, 15, 12, 6, 7, 16, 18, 13, 14, 49, 56, 60, 59, 55, 65, 122, 121, 120, 119, 118, 117, 116, 106, 115, 114, 105, 113, 129, 136, 135, 128, 104, 112, 111, 134, 103, 110, 133, 132, 127, 126, 108, 125, 131, 124, 130, 123, 107, 99, 96, 100, 97, 92, 89, 90, 91, 94, 93, 98, 101, 109, 102, 95, 88, 87, 86, 85, 84, 83, 82, 81, 80, 79, 77, 78, 76, 75, 74, 72, 73, 71, 68, 69, 70, 67, 66, 63, 61, 62, 52, 44, 41, 35, 29, 25, 30, 36, 45, 46, 32, 27, 37, 31, 20, 26, 19, 8, 9, 2, 3, 10]\n",
      "output_tsp_sol_order_for_image -  137\n"
     ]
    }
   ],
   "source": [
    "from ortools.constraint_solver import routing_enums_pb2\n",
    "from ortools.constraint_solver import pywrapcp\n",
    "\n",
    "def tsp(pre_image_check_word_graph):\n",
    "    output_tsp_sol_order_for_image = []          \n",
    "    \n",
    "    def create_data_model(pre_image_check_word_graph):\n",
    "        \"\"\"Stores the data for the problem.\"\"\"\n",
    "    #     ex1 = create_random_vertex_list(50)\n",
    "    #     ex2 = vertexl_to_graph(ex1)\n",
    "\n",
    "        data = {}\n",
    "        data['distance_matrix'] = pre_image_check_word_graph #ex2\n",
    "        data['num_vehicles'] = 1\n",
    "        data['depot'] = 0\n",
    "        return data\n",
    "\n",
    "\n",
    "    def print_solution(manager, routing, solution, output_tsp_sol_order_for_image):\n",
    "        sol_list = []                                                  #Added later\n",
    "        \"\"\"Prints solution on console.\"\"\"\n",
    "        print('Objective: {} miles'.format(solution.ObjectiveValue()))\n",
    "        index = routing.Start(0)\n",
    "        plan_output = 'Route for vehicle 0:\\n'\n",
    "        route_distance = 0\n",
    "        while not routing.IsEnd(index):\n",
    "            plan_output += ' {} ->'.format(manager.IndexToNode(index))\n",
    "            sol_list.append(manager.IndexToNode(index))                 #Added later\n",
    "            previous_index = index\n",
    "            index = solution.Value(routing.NextVar(index))\n",
    "            route_distance += routing.GetArcCostForVehicle(previous_index, index, 0)\n",
    "        plan_output += ' {}\\n'.format(manager.IndexToNode(index))\n",
    "        print(plan_output)\n",
    "        plan_output += 'Route distance: {}miles\\n'.format(route_distance)\n",
    "        print('list - out - ', sol_list)                                 #Added later\n",
    "        return sol_list\n",
    "\n",
    "    \"\"\"Entry point of the program.\"\"\"\n",
    "    # Instantiate the data problem.\n",
    "    data = create_data_model(pre_image_check_word_graph1)                   #Added later\n",
    "\n",
    "    # Create the routing index manager.\n",
    "    manager = pywrapcp.RoutingIndexManager(len(data['distance_matrix']),\n",
    "                                           data['num_vehicles'], data['depot'])\n",
    "\n",
    "    # Create Routing Model.\n",
    "    routing = pywrapcp.RoutingModel(manager)\n",
    "\n",
    "\n",
    "    def distance_callback(from_index, to_index):\n",
    "        \"\"\"Returns the distance between the two nodes.\"\"\"\n",
    "\n",
    "        # Convert from routing variable Index to distance matrix NodeIndex.\n",
    "        from_node = manager.IndexToNode(from_index)\n",
    "        to_node = manager.IndexToNode(to_index)\n",
    "        return data['distance_matrix'][from_node][to_node]\n",
    "\n",
    "    transit_callback_index = routing.RegisterTransitCallback(distance_callback)\n",
    "\n",
    "    # Define cost of each arc.\n",
    "    routing.SetArcCostEvaluatorOfAllVehicles(transit_callback_index)\n",
    "\n",
    "    # Setting first solution heuristic.\n",
    "    search_parameters = pywrapcp.DefaultRoutingSearchParameters()\n",
    "    search_parameters.first_solution_strategy = (\n",
    "        routing_enums_pb2.FirstSolutionStrategy.PATH_CHEAPEST_ARC)\n",
    "\n",
    "    # Solve the problem.\n",
    "    solution = routing.SolveWithParameters(search_parameters)\n",
    "\n",
    "    # Print solution on console.\n",
    "    if solution:\n",
    "        output_tsp_sol_order_for_image = print_solution(manager, routing, solution, output_tsp_sol_order_for_image)  #Edited Later\n",
    "        print('output_tsp_sol_order_for_image - ', len(output_tsp_sol_order_for_image))\n",
    "    \n",
    "    return output_tsp_sol_order_for_image\n",
    "\n",
    "tsp_output_list_order1 = tsp(pre_image_check_word_graph1)\n",
    "tsp_output_list_order2 = tsp(pre_image_check_word_graph2)\n",
    "\n"
   ]
  },
  {
   "cell_type": "code",
   "execution_count": 39,
   "id": "a1e9a876",
   "metadata": {},
   "outputs": [],
   "source": [
    "vertex_list_for_image_plot1 = []\n",
    "vertex_list_for_image_plot2 = []\n",
    "\n",
    "\n",
    "# print(tsp_output_list_order1)\n",
    "for i in tsp_output_list_order1:\n",
    "    vertex_list_for_image_plot1.append(pre_image_check_word_vertex_list1[i])\n",
    "for i in tsp_output_list_order2:\n",
    "    vertex_list_for_image_plot2.append(pre_image_check_word_vertex_list2[i])\n"
   ]
  },
  {
   "cell_type": "code",
   "execution_count": 43,
   "id": "768edeb7",
   "metadata": {},
   "outputs": [
    {
     "data": {
      "image/png": "[encoded data removed]",
      "text/plain": [
       "<Figure size 432x288 with 1 Axes>"
      ]
     },
     "metadata": {
      "needs_background": "light"
     },
     "output_type": "display_data"
    },
    {
     "data": {
      "image/png": "[encoded data removed]",
      "text/plain": [
       "<Figure size 432x288 with 1 Axes>"
      ]
     },
     "metadata": {
      "needs_background": "light"
     },
     "output_type": "display_data"
    }
   ],
   "source": [
    "import matplotlib.pyplot as plt\n",
    "# import matplotlib.patches as mpatches\n",
    "# ex3 = create_random_vertex_list(10)\n",
    "\n",
    "# for points in [vertex_list_for_image_plot1, vertex_list_for_image_plot2]:\n",
    "#     plt.plot(*zip(*(points+points[:1])), marker='o')\n",
    "#     automin, automax = plt.xlim()\n",
    "#     plt.xlim(automin-0.5, automax+0.5)\n",
    "#     automin, automax = plt.ylim()\n",
    "#     plt.ylim(automin-0.5, automax+0.5)\n",
    "\n",
    "#     plt.show()\n",
    "plt.plot(*zip(*(vertex_list_for_image_plot1 + vertex_list_for_image_plot1[:1])), marker='o')\n",
    "automin, automax = plt.xlim()\n",
    "plt.xlim(automin-0.5, automax+0.5)\n",
    "automin, automax = plt.ylim()\n",
    "plt.ylim(automin-0.5, automax+0.5)\n",
    "plt.savefig(\"{}.png\".format('test_tspplot1'))\n",
    "plt.show()\n",
    "\n",
    "plt.plot(*zip(*(vertex_list_for_image_plot2 + vertex_list_for_image_plot2[:1])), marker='o')\n",
    "automin, automax = plt.xlim()\n",
    "plt.xlim(automin-0.5, automax+0.5)\n",
    "automin, automax = plt.ylim()\n",
    "plt.ylim(automin-0.5, automax+0.5)\n",
    "plt.savefig(\"{}.png\".format('test_tspplot2'))\n",
    "plt.show()"
   ]
  },
  {
   "cell_type": "code",
   "execution_count": 44,
   "id": "476fcebb",
   "metadata": {},
   "outputs": [
    {
     "name": "stdout",
     "output_type": "stream",
     "text": [
      "Similarity using ORB is:  1.0\n",
      "Similarity using SSIM is:  1.0\n"
     ]
    },
    {
     "name": "stderr",
     "output_type": "stream",
     "text": [
      "C:\\Users\\riddh\\anaconda3\\envs\\BDS\\lib\\site-packages\\skimage\\_shared\\utils.py:293: UserWarning: Inputs have mismatched dtype.  Setting data_range based on im1.dtype.\n",
      "  return func(*args, **kwargs)\n"
     ]
    }
   ],
   "source": [
    "\"\"\"\n",
    "Comparing images using ORB/SIFT feature detectors\n",
    "and structural similarity index.\n",
    "\"\"\"\n",
    "\n",
    "\n",
    "from skimage.metrics import structural_similarity\n",
    "import cv2\n",
    "\n",
    "#Works well with images of different dimensions\n",
    "def orb_sim(img1, img2):\n",
    "  # SIFT is no longer available in cv2 so using ORB\n",
    "  orb = cv2.ORB_create()\n",
    "\n",
    "  # detect keypoints and descriptors\n",
    "  kp_a, desc_a = orb.detectAndCompute(img1, None)\n",
    "  kp_b, desc_b = orb.detectAndCompute(img2, None)\n",
    "\n",
    "  # define the bruteforce matcher object\n",
    "  bf = cv2.BFMatcher(cv2.NORM_HAMMING, crossCheck=True)\n",
    "    \n",
    "  #perform matches. \n",
    "  matches = bf.match(desc_a, desc_b)\n",
    "  #Look for similar regions with distance < 50. Goes from 0 to 100 so pick a number between.\n",
    "  similar_regions = [i for i in matches if i.distance < 50]  \n",
    "  if len(matches) == 0:\n",
    "    return 0\n",
    "  return len(similar_regions) / len(matches)\n",
    "\n",
    "\n",
    "#Needs images to be same dimensions\n",
    "def structural_sim(img1, img2):\n",
    "\n",
    "  sim, diff = structural_similarity(img1, img2, full=True)\n",
    "  return sim\n",
    "\n",
    "img00 = cv2.imread('rec1.png', 0)\n",
    "img01 = cv2.imread('recomp1.png', 0)\n",
    "\n",
    "img1 = cv2.imread('test_tspplot1.png', 0)  # 714 x 901 pixels\n",
    "# img2 = cv2.imread('images/BSE_noisy.png', 0)  # 714 x 901 pixels\n",
    "img3 = cv2.imread('test_tspplot2.png', 0)  # 203 x 256 pixels\n",
    "# img4 = cv2.imread('images/different_img.png', 0)  # 203 x 256 pixels\n",
    "\n",
    "orb_similarity = orb_sim(img1, img3)  #1.0 means identical. Lower = not similar\n",
    "\n",
    "print(\"Similarity using ORB is: \", orb_similarity)\n",
    "#Resize for SSIM\n",
    "from skimage.transform import resize\n",
    "img5 = resize(img3, (img1.shape[0], img1.shape[1]), anti_aliasing=True, preserve_range=True)\n",
    "\n",
    "ssim = structural_sim(img1, img5) #1.0 means identical. Lower = not similar\n",
    "print(\"Similarity using SSIM is: \", ssim)"
   ]
  },
  {
   "cell_type": "code",
   "execution_count": null,
   "id": "812c93ce",
   "metadata": {},
   "outputs": [],
   "source": []
  }
 ],
 "metadata": {
  "kernelspec": {
   "display_name": "Python 3 (ipykernel)",
   "language": "python",
   "name": "python3"
  },
  "language_info": {
   "codemirror_mode": {
    "name": "ipython",
    "version": 3
   },
   "file_extension": ".py",
   "mimetype": "text/x-python",
   "name": "python",
   "nbconvert_exporter": "python",
   "pygments_lexer": "ipython3",
   "version": "3.8.3"
  }
 },
 "nbformat": 4,
 "nbformat_minor": 5
}
