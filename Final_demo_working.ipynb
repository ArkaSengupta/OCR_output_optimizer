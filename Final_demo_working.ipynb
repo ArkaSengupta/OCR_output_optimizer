{
 "cells": [
  {
   "cell_type": "code",
   "execution_count": 1,
   "id": "0b4d179b",
   "metadata": {},
   "outputs": [
    {
     "name": "stdout",
     "output_type": "stream",
     "text": [
      "*.json\n",
      "['160128768-ZNHSZ.json', '688783428-01FGR.json', '833277181-LXI70.json', '931075459-21NT6.json', '952962240-N2O9X.json', '953066256-UXU05.json', '953249057-XK596.json']\n",
      "{'rows': 48, 'columns': 8}\n"
     ]
    }
   ],
   "source": [
    "import os\n",
    "import glob\n",
    "\n",
    "file_location = os.path.join('*.json')\n",
    "print(file_location)\n",
    "filenames = glob.glob(file_location)\n",
    "print(filenames)\n",
    "\n",
    "import json\n",
    "\n",
    "data_test = []\n",
    "data_test_names = []\n",
    "\n",
    "for i,fname in enumerate(filenames):\n",
    "    with open(fname) as f:\n",
    "        data_test.append(json.load(f))\n",
    "        data_test_names.append(fname)\n",
    "\n",
    "print(data_test[0]['pages'][0]['tables'][0]['properties'])"
   ]
  },
  {
   "cell_type": "code",
   "execution_count": 2,
   "id": "b1b931bf",
   "metadata": {},
   "outputs": [],
   "source": [
    "f = []\n",
    "l = len(data_test)\n",
    "# print(l)\n",
    "for i in range(l):\n",
    "#     word_det_list = data_test[i]['pages'][0]['tables'][0]\n",
    "    pgn = 0\n",
    "    for z in range(len(data_test[i]['pages'])):\n",
    "        if data_test[i]['pages'][z]['pageNumber'] == 1:\n",
    "            pgn = z\n",
    "#     print(pgn)\n",
    "    r = data_test[i]['pages'][pgn]['tables'][0]['properties']['rows']\n",
    "    c = data_test[i]['pages'][pgn]['tables'][0]['properties']['columns']\n",
    "    x = []\n",
    "    headers = []\n",
    "    for a in range(c):\n",
    "            headers.append(data_test[i]['pages'][pgn]['tables'][0]['cells'][a]['text'])\n",
    "#     print(headers)\n",
    "    for q in range(c):\n",
    "        l = []\n",
    "        for w in range(r):\n",
    "            l.append(data_test[i]['pages'][pgn]['tables'][0]['cells'][(q*8)+w]['text'])\n",
    "        x.append(l)\n",
    "    f.append(x)"
   ]
  },
  {
   "cell_type": "code",
   "execution_count": 3,
   "id": "4fee89ec",
   "metadata": {
    "scrolled": true
   },
   "outputs": [
    {
     "name": "stderr",
     "output_type": "stream",
     "text": [
      "C:\\Users\\riddh\\anaconda3\\envs\\BDS\\lib\\site-packages\\numpy\\_distributor_init.py:30: UserWarning: loaded more than 1 DLL from .libs:\n",
      "C:\\Users\\riddh\\anaconda3\\envs\\BDS\\lib\\site-packages\\numpy\\.libs\\libopenblas.NOIJJG62EMASZI6NYURL6JBKM4EVBGM7.gfortran-win_amd64.dll\n",
      "C:\\Users\\riddh\\anaconda3\\envs\\BDS\\lib\\site-packages\\numpy\\.libs\\libopenblas.WCDJNK7YVMPZQ2ME2ZZHJJRJ3JIKNDB7.gfortran-win_amd64.dll\n",
      "  warnings.warn(\"loaded more than 1 DLL from .libs:\"\n"
     ]
    }
   ],
   "source": [
    "import pandas as pd\n",
    "flist = []\n",
    "for i in range(len(data_test)):\n",
    "    df = pd.DataFrame(f[i][1:], columns =f[i][0])\n",
    "    flist.append(df)"
   ]
  },
  {
   "cell_type": "code",
   "execution_count": 4,
   "id": "cc1b89cb",
   "metadata": {},
   "outputs": [
    {
     "data": {
      "text/html": [
       "<div>\n",
       "<style scoped>\n",
       "    .dataframe tbody tr th:only-of-type {\n",
       "        vertical-align: middle;\n",
       "    }\n",
       "\n",
       "    .dataframe tbody tr th {\n",
       "        vertical-align: top;\n",
       "    }\n",
       "\n",
       "    .dataframe thead th {\n",
       "        text-align: right;\n",
       "    }\n",
       "</style>\n",
       "<table border=\"1\" class=\"dataframe\">\n",
       "  <thead>\n",
       "    <tr style=\"text-align: right;\">\n",
       "      <th></th>\n",
       "      <th>Post Date</th>\n",
       "      <th>Value Date</th>\n",
       "      <th>Branch Code</th>\n",
       "      <th>Cheque Number</th>\n",
       "      <th>Account Description</th>\n",
       "      <th>Debit</th>\n",
       "      <th>Credit</th>\n",
       "      <th>Balance</th>\n",
       "      <th>04/01/2021</th>\n",
       "    </tr>\n",
       "  </thead>\n",
       "  <tbody>\n",
       "    <tr>\n",
       "      <th>0</th>\n",
       "      <td>04/01/2021</td>\n",
       "      <td>04/01/2021</td>\n",
       "      <td>02684</td>\n",
       "      <td></td>\n",
       "      <td>BY TRANSFER/N EFT ABDULKADA R AND SONS SDC2783...</td>\n",
       "      <td></td>\n",
       "      <td>100000.00</td>\n",
       "      <td>169875.88 CR</td>\n",
       "      <td>05/01/2021</td>\n",
       "    </tr>\n",
       "    <tr>\n",
       "      <th>1</th>\n",
       "      <td>05/01/2021</td>\n",
       "      <td>05/01/2021</td>\n",
       "      <td>02684</td>\n",
       "      <td></td>\n",
       "      <td>TO TRANSFER/H DFC BANK LIMITED CBIN00000000 01...</td>\n",
       "      <td>18724.00</td>\n",
       "      <td></td>\n",
       "      <td>151151.88 CR</td>\n",
       "      <td>07/01/2021</td>\n",
       "    </tr>\n",
       "    <tr>\n",
       "      <th>2</th>\n",
       "      <td>07/01/2021</td>\n",
       "      <td>07/01/2021</td>\n",
       "      <td>08103</td>\n",
       "      <td></td>\n",
       "      <td>BY TRANSFER/Fr om A/C 1143599988</td>\n",
       "      <td></td>\n",
       "      <td>25000.00</td>\n",
       "      <td>176151.88 CR</td>\n",
       "      <td>08/01/2021</td>\n",
       "    </tr>\n",
       "    <tr>\n",
       "      <th>3</th>\n",
       "      <td>08/01/2021</td>\n",
       "      <td>08/01/2021</td>\n",
       "      <td>02684</td>\n",
       "      <td></td>\n",
       "      <td>TO TRANSFER/N EFT American Express CBINH210080...</td>\n",
       "      <td>2077.00</td>\n",
       "      <td></td>\n",
       "      <td>174074.88 CR</td>\n",
       "      <td>11/01/2021</td>\n",
       "    </tr>\n",
       "    <tr>\n",
       "      <th>4</th>\n",
       "      <td>11/01/2021</td>\n",
       "      <td>11/01/2021</td>\n",
       "      <td>02684</td>\n",
       "      <td></td>\n",
       "      <td>TO TRANSFER/T P Dewan Housing Fin CBIN00000000...</td>\n",
       "      <td>79799.00</td>\n",
       "      <td></td>\n",
       "      <td>94275.88 CR</td>\n",
       "      <td>11/01/2021</td>\n",
       "    </tr>\n",
       "    <tr>\n",
       "      <th>5</th>\n",
       "      <td>11/01/2021</td>\n",
       "      <td>11/01/2021</td>\n",
       "      <td>02684</td>\n",
       "      <td></td>\n",
       "      <td>TO TRANSFER/T P Dewan Housing Fin CBIN00000000...</td>\n",
       "      <td>39880.00</td>\n",
       "      <td></td>\n",
       "      <td>54395.88 CR</td>\n",
       "      <td>15/01/2021</td>\n",
       "    </tr>\n",
       "    <tr>\n",
       "      <th>6</th>\n",
       "      <td>15/01/2021</td>\n",
       "      <td>15/01/2021</td>\n",
       "      <td>02684</td>\n",
       "      <td></td>\n",
       "      <td>TO TRANSFER/N EFT American Express CBINH210155...</td>\n",
       "      <td>9140.00</td>\n",
       "      <td></td>\n",
       "      <td>45255.88 CR</td>\n",
       "      <td>15/01/2021</td>\n",
       "    </tr>\n",
       "  </tbody>\n",
       "</table>\n",
       "</div>"
      ],
      "text/plain": [
       "    Post Date  Value Date Branch Code Cheque Number  \\\n",
       "0  04/01/2021  04/01/2021       02684                 \n",
       "1  05/01/2021  05/01/2021       02684                 \n",
       "2  07/01/2021  07/01/2021       08103                 \n",
       "3  08/01/2021  08/01/2021       02684                 \n",
       "4  11/01/2021  11/01/2021       02684                 \n",
       "5  11/01/2021  11/01/2021       02684                 \n",
       "6  15/01/2021  15/01/2021       02684                 \n",
       "\n",
       "                                 Account Description     Debit     Credit  \\\n",
       "0  BY TRANSFER/N EFT ABDULKADA R AND SONS SDC2783...            100000.00   \n",
       "1  TO TRANSFER/H DFC BANK LIMITED CBIN00000000 01...  18724.00              \n",
       "2                   BY TRANSFER/Fr om A/C 1143599988             25000.00   \n",
       "3  TO TRANSFER/N EFT American Express CBINH210080...   2077.00              \n",
       "4  TO TRANSFER/T P Dewan Housing Fin CBIN00000000...  79799.00              \n",
       "5  TO TRANSFER/T P Dewan Housing Fin CBIN00000000...  39880.00              \n",
       "6  TO TRANSFER/N EFT American Express CBINH210155...   9140.00              \n",
       "\n",
       "        Balance  04/01/2021  \n",
       "0  169875.88 CR  05/01/2021  \n",
       "1  151151.88 CR  07/01/2021  \n",
       "2  176151.88 CR  08/01/2021  \n",
       "3  174074.88 CR  11/01/2021  \n",
       "4   94275.88 CR  11/01/2021  \n",
       "5   54395.88 CR  15/01/2021  \n",
       "6   45255.88 CR  15/01/2021  "
      ]
     },
     "execution_count": 4,
     "metadata": {},
     "output_type": "execute_result"
    }
   ],
   "source": [
    "flist[2]"
   ]
  },
  {
   "cell_type": "code",
   "execution_count": 5,
   "id": "0e4cbf71",
   "metadata": {},
   "outputs": [
    {
     "name": "stdout",
     "output_type": "stream",
     "text": [
      "Passed\n"
     ]
    }
   ],
   "source": [
    "#Check if no. of columns in reasonable (5<x<12)\n",
    "if 5 < len(flist[2].columns ) < 12:\n",
    "    print('Passed')"
   ]
  },
  {
   "cell_type": "code",
   "execution_count": 6,
   "id": "532851fe",
   "metadata": {},
   "outputs": [],
   "source": [
    "predicted_columns = [0] * len(flist[2].columns)"
   ]
  },
  {
   "cell_type": "code",
   "execution_count": 7,
   "id": "715509d3",
   "metadata": {},
   "outputs": [],
   "source": [
    "#Identify date columns\n",
    "import spacy\n",
    "from spacy import displacy\n",
    "\n",
    "NER = spacy.load(\"en_core_web_sm\")"
   ]
  },
  {
   "cell_type": "code",
   "execution_count": 8,
   "id": "3dc27501",
   "metadata": {},
   "outputs": [
    {
     "name": "stdout",
     "output_type": "stream",
     "text": [
      "04/01/2021 ORG\n",
      "07/01/2021 DATE\n",
      "08/01/2021 DATE\n",
      "11/01/2021 CARDINAL\n",
      "11/01/2021 CARDINAL\n",
      "15/01/2021 DATE\n"
     ]
    }
   ],
   "source": [
    "for i in flist[2]['Post Date']:\n",
    "    text1= NER(i)\n",
    "    for word in text1.ents:\n",
    "        print(word.text,word.label_)"
   ]
  },
  {
   "cell_type": "code",
   "execution_count": 9,
   "id": "3a14b964",
   "metadata": {},
   "outputs": [
    {
     "name": "stdout",
     "output_type": "stream",
     "text": [
      "04/01/2021 ORG\n"
     ]
    }
   ],
   "source": [
    "a = NER('04/01/2021')\n",
    "for word in a.ents:\n",
    "        print(word.text,word.label_)"
   ]
  },
  {
   "cell_type": "code",
   "execution_count": 10,
   "id": "f8d137b4",
   "metadata": {},
   "outputs": [
    {
     "name": "stdout",
     "output_type": "stream",
     "text": [
      "04/01/2021 ORG\n",
      "07/01/2021 DATE\n",
      "08/01/2021 DATE\n",
      "11/01/2021 CARDINAL\n",
      "11/01/2021 CARDINAL\n",
      "15/01/2021 DATE\n",
      "04/01/2021 ORG\n",
      "07/01/2021 DATE\n",
      "08/01/2021 DATE\n",
      "11/01/2021 CARDINAL\n",
      "11/01/2021 CARDINAL\n",
      "15/01/2021 DATE\n",
      "02684 DATE\n",
      "02684 DATE\n",
      "08103 DATE\n",
      "02684 DATE\n",
      "02684 DATE\n",
      "02684 DATE\n",
      "02684 DATE\n",
      "TRANSFER/N EFT ABDULKADA ORG\n",
      "TRANSFER/ ORG\n",
      "01722941 DATE\n",
      "TRANSFER/ ORG\n",
      "1143599988 DATE\n",
      "TRANSFER/N EFT American Express ORG\n",
      "66677 DATE\n",
      "TRANSFER/T P Dewan Housing Fin ORG\n",
      "02032182 DATE\n",
      "TRANSFER/T P Dewan Housing Fin ORG\n",
      "02032177 DATE\n",
      "TRANSFER/N EFT American Express CBINH210155 ORG\n",
      "18724.00 CARDINAL\n",
      "2077.00 CARDINAL\n",
      "79799.00 CARDINAL\n",
      "39880.00 CARDINAL\n",
      "9140.00 CARDINAL\n",
      "100000.00 CARDINAL\n",
      "25000.00 CARDINAL\n",
      "169875.88 CARDINAL\n",
      "CR ORG\n",
      "151151.88 CARDINAL\n",
      "CR ORG\n",
      "176151.88 CARDINAL\n",
      "CR ORG\n",
      "174074.88 CARDINAL\n",
      "CR ORG\n",
      "94275.88 CARDINAL\n",
      "CR ORG\n",
      "54395.88 CARDINAL\n",
      "CR ORG\n",
      "45255.88 CARDINAL\n",
      "CR ORG\n",
      "07/01/2021 DATE\n",
      "08/01/2021 DATE\n",
      "11/01/2021 CARDINAL\n",
      "11/01/2021 CARDINAL\n",
      "15/01/2021 DATE\n",
      "15/01/2021 DATE\n"
     ]
    }
   ],
   "source": [
    "testl = []\n",
    "for q in flist[2].columns:\n",
    "    testsubl = []\n",
    "    for i in flist[2][q]:\n",
    "        text1= NER(i)\n",
    "        for word in text1.ents:\n",
    "            print(word.text,word.label_)\n",
    "            testsubl.extend([word.label_])\n",
    "    testl.append(testsubl)"
   ]
  },
  {
   "cell_type": "code",
   "execution_count": 11,
   "id": "63bb1270",
   "metadata": {},
   "outputs": [
    {
     "data": {
      "text/plain": [
       "[['ORG', 'DATE', 'DATE', 'CARDINAL', 'CARDINAL', 'DATE'],\n",
       " ['ORG', 'DATE', 'DATE', 'CARDINAL', 'CARDINAL', 'DATE'],\n",
       " ['DATE', 'DATE', 'DATE', 'DATE', 'DATE', 'DATE', 'DATE'],\n",
       " [],\n",
       " ['ORG',\n",
       "  'ORG',\n",
       "  'DATE',\n",
       "  'ORG',\n",
       "  'DATE',\n",
       "  'ORG',\n",
       "  'DATE',\n",
       "  'ORG',\n",
       "  'DATE',\n",
       "  'ORG',\n",
       "  'DATE',\n",
       "  'ORG'],\n",
       " ['CARDINAL', 'CARDINAL', 'CARDINAL', 'CARDINAL', 'CARDINAL'],\n",
       " ['CARDINAL', 'CARDINAL'],\n",
       " ['CARDINAL',\n",
       "  'ORG',\n",
       "  'CARDINAL',\n",
       "  'ORG',\n",
       "  'CARDINAL',\n",
       "  'ORG',\n",
       "  'CARDINAL',\n",
       "  'ORG',\n",
       "  'CARDINAL',\n",
       "  'ORG',\n",
       "  'CARDINAL',\n",
       "  'ORG',\n",
       "  'CARDINAL',\n",
       "  'ORG'],\n",
       " ['DATE', 'DATE', 'CARDINAL', 'CARDINAL', 'DATE', 'DATE']]"
      ]
     },
     "execution_count": 11,
     "metadata": {},
     "output_type": "execute_result"
    }
   ],
   "source": [
    "testl"
   ]
  },
  {
   "cell_type": "code",
   "execution_count": 12,
   "id": "5f859a08",
   "metadata": {},
   "outputs": [],
   "source": [
    "total_l = []\n",
    "for q in flist[2].columns:\n",
    "    sub_l2 = 0\n",
    "    for i in flist[2][q]:\n",
    "        sub_l2 += len(i)\n",
    "    total_l.append(sub_l2)\n",
    "\n",
    "curcoldesc = total_l.index(max(total_l))\n",
    "predicted_columns[curcoldesc] = 'Description'\n"
   ]
  },
  {
   "cell_type": "code",
   "execution_count": 13,
   "id": "8c3e19c2",
   "metadata": {},
   "outputs": [
    {
     "name": "stdout",
     "output_type": "stream",
     "text": [
      "Counter({'DATE': 3, 'CARDINAL': 2, 'ORG': 1})\n",
      "date\n",
      "Counter({'DATE': 3, 'CARDINAL': 2, 'ORG': 1})\n",
      "date\n",
      "Counter({'DATE': 7})\n",
      "date\n",
      "Counter()\n",
      "Counter({'CARDINAL': 5})\n",
      "Counter({'CARDINAL': 2})\n",
      "Counter({'CARDINAL': 7, 'ORG': 7})\n",
      "Counter({'DATE': 4, 'CARDINAL': 2})\n",
      "date\n"
     ]
    }
   ],
   "source": [
    "from collections import Counter\n",
    "for c, q in enumerate(testl):\n",
    "    if c == predicted_columns.index('Description'):\n",
    "        continue\n",
    "    a = Counter(q)\n",
    "    print(a)\n",
    "    if a['DATE'] >= 1 and a['DATE'] >= (len(a)/2):\n",
    "        predicted_columns[c] = 'Date'\n",
    "        print('date')"
   ]
  },
  {
   "cell_type": "code",
   "execution_count": 14,
   "id": "9fcecfdc",
   "metadata": {},
   "outputs": [
    {
     "name": "stdout",
     "output_type": "stream",
     "text": [
      "Counter()\n",
      "Counter({'CARDINAL': 5})\n",
      "CARDINAL\n",
      "Counter({'CARDINAL': 2})\n",
      "CARDINAL\n",
      "Counter({'CARDINAL': 7, 'ORG': 7})\n",
      "CARDINAL\n"
     ]
    }
   ],
   "source": [
    "# for i in flist[2]:\n",
    "#     print(Counter(i))\n",
    "for c, q in enumerate(testl):\n",
    "    if c == predicted_columns.index('Description'):\n",
    "        continue\n",
    "    elif predicted_columns[c] == 'Date':\n",
    "        continue\n",
    "    a = Counter(q)\n",
    "    print(a)\n",
    "    if a['CARDINAL'] >= 1 and a['CARDINAL'] >= (len(a)/2):\n",
    "        predicted_columns[c] = 'Price'\n",
    "        print('CARDINAL')"
   ]
  },
  {
   "cell_type": "code",
   "execution_count": 15,
   "id": "8df4724e",
   "metadata": {},
   "outputs": [
    {
     "data": {
      "text/plain": [
       "['Date', 'Date', 'Date', 0, 'Description', 'Price', 'Price', 'Price', 'Date']"
      ]
     },
     "execution_count": 15,
     "metadata": {},
     "output_type": "execute_result"
    }
   ],
   "source": [
    "predicted_columns"
   ]
  },
  {
   "cell_type": "markdown",
   "id": "33566df5",
   "metadata": {},
   "source": [
    "Check for errors"
   ]
  },
  {
   "cell_type": "code",
   "execution_count": 16,
   "id": "b7bbd2a4",
   "metadata": {},
   "outputs": [],
   "source": [
    "ErrorList = []"
   ]
  },
  {
   "cell_type": "code",
   "execution_count": 17,
   "id": "a87c68f6",
   "metadata": {},
   "outputs": [],
   "source": [
    "# Description missing errors\n",
    "e_desc = 'Description missing error'\n",
    "for c1, i in enumerate(predicted_columns):\n",
    "    if i == 'Description':\n",
    "        for c2, j in enumerate(flist[2][flist[2].columns[c1]]):\n",
    "            if j == '' or j is None:\n",
    "                ErrorList.append({'Error:', e_desc, 'Column:', c1, 'Row:', c2})\n",
    "                print('col- ', c1 , 'row - ', c2, 'element - ', j)\n",
    "#             print(j)"
   ]
  },
  {
   "cell_type": "code",
   "execution_count": 18,
   "id": "34f270e1",
   "metadata": {},
   "outputs": [],
   "source": [
    "# Date missing errors\n",
    "e_date = 'Date missing error'\n",
    "for c1, i in enumerate(predicted_columns):\n",
    "    if i == 'Date':\n",
    "        for c2, j in enumerate(flist[2][flist[2].columns[c1]]):\n",
    "            if j == '' or j is None:\n",
    "                ErrorList.append({'Error:', e_desc, 'Column:', c1, 'Row:', c2})\n",
    "                print('col- ', c1 , 'row - ', c2, 'element - ', j)\n",
    "#             print(j)\n"
   ]
  },
  {
   "cell_type": "code",
   "execution_count": 19,
   "id": "e1b07e28",
   "metadata": {},
   "outputs": [
    {
     "data": {
      "text/plain": [
       "['Date', 'Date', 'Date', 0, 'Description', 'Price', 'Price', 'Balance', 'Date']"
      ]
     },
     "execution_count": 19,
     "metadata": {},
     "output_type": "execute_result"
    }
   ],
   "source": [
    "# Find Balance Col\n",
    "amount_find_l = []\n",
    "for c1, i in enumerate(predicted_columns):\n",
    "    if i == 'Price':\n",
    "        amount_find_l_sub = 0\n",
    "        for c2, j in enumerate(flist[2][flist[2].columns[c1]]):\n",
    "            if j == '' or j is None:\n",
    "                continue\n",
    "#                 print('col- ', c1 , 'row - ', c2, 'element - ', j)\n",
    "            amount_find_l_sub += 1\n",
    "        amount_find_l.append({'col': c1, 'len': amount_find_l_sub})\n",
    "#         print(amount_find_l)\n",
    "amfield = 0\n",
    "bal_col = None\n",
    "for i in amount_find_l:\n",
    "    if i['len'] >= amfield:\n",
    "        amfield = i['len']\n",
    "        bal_col = i\n",
    "predicted_columns[bal_col['col']] = 'Balance'\n",
    "predicted_columns\n",
    "# if [x['len'] for x in amount_find_l].count(bal_col['len']) == 1:\n",
    "#     predicted_columns[bal_col['col']] = 'Balance'\n",
    "# else:\n",
    "#     #Rightmost col is given ablance tag\n",
    "#     predicted_columns[bal_col['col']] = 'Balance'\n"
   ]
  },
  {
   "cell_type": "code",
   "execution_count": 20,
   "id": "57256964",
   "metadata": {},
   "outputs": [],
   "source": [
    "# Balance missing errors\n",
    "e_bal = 'Balance missing error'\n",
    "for c1, i in enumerate(predicted_columns):\n",
    "    if i == 'Date':\n",
    "        for c2, j in enumerate(flist[2][flist[2].columns[c1]]):\n",
    "            if j == '' or j is None:\n",
    "                ErrorList.append({'Error:', e_bal, 'Column:', c1, 'Row:', c2})\n",
    "                print('col- ', c1 , 'row - ', c2, 'element - ', j)"
   ]
  },
  {
   "cell_type": "code",
   "execution_count": 21,
   "id": "b77b2fdf",
   "metadata": {},
   "outputs": [
    {
     "data": {
      "text/plain": [
       "[{'column_no': 5,\n",
       "  'data': [0.0, 18724.0, 0.0, 2077.0, 79799.0, 39880.0, 9140.0]},\n",
       " {'column_no': 6, 'data': [100000.0, 0.0, 25000.0, 0.0, 0.0, 0.0, 0.0]},\n",
       " {'column_no': 7,\n",
       "  'data': [169875.88,\n",
       "   151151.88,\n",
       "   176151.88,\n",
       "   174074.88,\n",
       "   94275.88,\n",
       "   54395.88,\n",
       "   45255.88]}]"
      ]
     },
     "execution_count": 21,
     "metadata": {},
     "output_type": "execute_result"
    }
   ],
   "source": [
    "# Balance calculation errors\n",
    "new_cols = []\n",
    "for c1, i in enumerate(predicted_columns):\n",
    "    new_cols_sub = []\n",
    "    if i == 'Price' or i == 'Balance':\n",
    "        for c2, j in enumerate(flist[2][flist[2].columns[c1]]):\n",
    "            start_l, end_l = 0, len(j)\n",
    "            for c, i in enumerate(j):\n",
    "                try:\n",
    "                    int(i)\n",
    "                    start_l = c\n",
    "                    break\n",
    "                except:\n",
    "                    pass\n",
    "            for c, i in enumerate(j[::-1]):\n",
    "                try:\n",
    "                    int(i)\n",
    "                    end_l = len(j) - c\n",
    "                    break\n",
    "                except:\n",
    "                    pass\n",
    "            try:\n",
    "                a = float(j[start_l: end_l])\n",
    "            except:\n",
    "                a = 0.0\n",
    "            new_cols_sub.append(a)\n",
    "        new_cols.append({'column_no': c1, 'data': new_cols_sub})\n",
    "new_cols"
   ]
  },
  {
   "cell_type": "code",
   "execution_count": 32,
   "id": "4faf97ac",
   "metadata": {},
   "outputs": [
    {
     "name": "stdout",
     "output_type": "stream",
     "text": [
      "169875.88 - 18724.0 = 151151.88\n",
      "176151.88 - 2077.0 = 174074.88\n",
      "174074.88 - 79799.0 = 94275.88\n",
      "94275.88 - 39880.0 = 54395.88\n",
      "54395.88 - 9140.0 = 45255.88\n",
      "151151.88 + 25000.0 = 176151.88\n"
     ]
    }
   ],
   "source": [
    "balance_index = predicted_columns.index('Balance')\n",
    "bal_i_test = -1\n",
    "for c, q in enumerate(new_cols):\n",
    "    if q['column_no'] == balance_index:\n",
    "        bal_i_test = c\n",
    "crdrlist = []\n",
    "for i in range(len(new_cols)):\n",
    "    credit_count = 0\n",
    "    debit_count = 0\n",
    "    rows_matched_credit = []\n",
    "    rows_matched_debit = []\n",
    "    for j in range(1, len(new_cols[i]['data'])):\n",
    "        if round(new_cols[bal_i_test]['data'][j-1] + new_cols[i]['data'][j], 2) == round(new_cols[bal_i_test]['data'][j], 2):\n",
    "            debit_count += 1\n",
    "            rows_matched_debit.append(j)\n",
    "            print(new_cols[bal_i_test]['data'][j-1], '+', new_cols[i]['data'][j], '=', new_cols[bal_i_test]['data'][j])\n",
    "        if round(new_cols[bal_i_test]['data'][j-1] - new_cols[i]['data'][j], 2) == round(new_cols[bal_i_test]['data'][j], 2):\n",
    "            credit_count += 1\n",
    "            rows_matched_credit.append(j)\n",
    "            print(new_cols[bal_i_test]['data'][j-1], '-', new_cols[i]['data'][j], '=', new_cols[bal_i_test]['data'][j])\n",
    "#         if j == 5:\n",
    "#             print('Error check',new_cols[bal_i_test]['data'][j-1], '-', new_cols[i]['data'][j], '=', round(new_cols[bal_i_test]['data'][j-1] - new_cols[i]['data'][j], 2), '----', new_cols[bal_i_test]['data'][j])\n",
    "    crdrlist.append({'column_no': new_cols[i]['column_no'], 'credit_count': credit_count, 'debit_count': debit_count, 'rows_matched_credit': rows_matched_credit, 'rows_matched_debit': rows_matched_debit})"
   ]
  },
  {
   "cell_type": "code",
   "execution_count": 33,
   "id": "f6fbc406",
   "metadata": {},
   "outputs": [
    {
     "data": {
      "text/plain": [
       "[{'column_no': 5,\n",
       "  'credit_count': 5,\n",
       "  'debit_count': 0,\n",
       "  'rows_matched_credit': [1, 3, 4, 5, 6],\n",
       "  'rows_matched_debit': []},\n",
       " {'column_no': 6,\n",
       "  'credit_count': 0,\n",
       "  'debit_count': 1,\n",
       "  'rows_matched_credit': [],\n",
       "  'rows_matched_debit': [2]},\n",
       " {'column_no': 7,\n",
       "  'credit_count': 0,\n",
       "  'debit_count': 0,\n",
       "  'rows_matched_credit': [],\n",
       "  'rows_matched_debit': []}]"
      ]
     },
     "execution_count": 33,
     "metadata": {},
     "output_type": "execute_result"
    }
   ],
   "source": [
    "crdrlist"
   ]
  },
  {
   "cell_type": "code",
   "execution_count": 34,
   "id": "1e1189fa",
   "metadata": {},
   "outputs": [],
   "source": [
    "#Check if debit credit is in same column\n",
    "crdrsameflagcol = None\n",
    "credit_col, debit_col = {'column_no': 0, 'credit_count': 0}, {'column_no': 0, 'debit_count': 0}\n",
    "for c, i in enumerate(crdrlist):\n",
    "#     if i['credit_count'] >=2 and i['debit_count'] >= 2:\n",
    "#         crdrsameflagcol = c\n",
    "    if i['credit_count'] >= credit_col['credit_count']:\n",
    "        credit_col = i\n",
    "    if i['debit_count'] >= debit_col['debit_count']:\n",
    "        debit_col = i\n",
    "if credit_col['column_no'] == debit_col['column_no']:\n",
    "    crdrsameflagcol = 1"
   ]
  },
  {
   "cell_type": "code",
   "execution_count": 35,
   "id": "d700aaba",
   "metadata": {},
   "outputs": [
    {
     "data": {
      "text/plain": [
       "({'column_no': 5,\n",
       "  'credit_count': 5,\n",
       "  'debit_count': 0,\n",
       "  'rows_matched_credit': [1, 3, 4, 5, 6],\n",
       "  'rows_matched_debit': []},\n",
       " {'column_no': 6,\n",
       "  'credit_count': 0,\n",
       "  'debit_count': 1,\n",
       "  'rows_matched_credit': [],\n",
       "  'rows_matched_debit': [2]},\n",
       " None)"
      ]
     },
     "execution_count": 35,
     "metadata": {},
     "output_type": "execute_result"
    }
   ],
   "source": [
    "credit_col, debit_col,crdrsameflagcol"
   ]
  },
  {
   "cell_type": "code",
   "execution_count": 36,
   "id": "3caf9487",
   "metadata": {},
   "outputs": [
    {
     "data": {
      "text/html": [
       "<div>\n",
       "<style scoped>\n",
       "    .dataframe tbody tr th:only-of-type {\n",
       "        vertical-align: middle;\n",
       "    }\n",
       "\n",
       "    .dataframe tbody tr th {\n",
       "        vertical-align: top;\n",
       "    }\n",
       "\n",
       "    .dataframe thead th {\n",
       "        text-align: right;\n",
       "    }\n",
       "</style>\n",
       "<table border=\"1\" class=\"dataframe\">\n",
       "  <thead>\n",
       "    <tr style=\"text-align: right;\">\n",
       "      <th></th>\n",
       "      <th>Post Date</th>\n",
       "      <th>Value Date</th>\n",
       "      <th>Branch Code</th>\n",
       "      <th>Cheque Number</th>\n",
       "      <th>Account Description</th>\n",
       "      <th>Debit</th>\n",
       "      <th>Credit</th>\n",
       "      <th>Balance</th>\n",
       "      <th>04/01/2021</th>\n",
       "    </tr>\n",
       "  </thead>\n",
       "  <tbody>\n",
       "    <tr>\n",
       "      <th>0</th>\n",
       "      <td>04/01/2021</td>\n",
       "      <td>04/01/2021</td>\n",
       "      <td>02684</td>\n",
       "      <td></td>\n",
       "      <td>BY TRANSFER/N EFT ABDULKADA R AND SONS SDC2783...</td>\n",
       "      <td></td>\n",
       "      <td>100000.00</td>\n",
       "      <td>169875.88 CR</td>\n",
       "      <td>05/01/2021</td>\n",
       "    </tr>\n",
       "    <tr>\n",
       "      <th>1</th>\n",
       "      <td>05/01/2021</td>\n",
       "      <td>05/01/2021</td>\n",
       "      <td>02684</td>\n",
       "      <td></td>\n",
       "      <td>TO TRANSFER/H DFC BANK LIMITED CBIN00000000 01...</td>\n",
       "      <td>18724.00</td>\n",
       "      <td></td>\n",
       "      <td>151151.88 CR</td>\n",
       "      <td>07/01/2021</td>\n",
       "    </tr>\n",
       "    <tr>\n",
       "      <th>2</th>\n",
       "      <td>07/01/2021</td>\n",
       "      <td>07/01/2021</td>\n",
       "      <td>08103</td>\n",
       "      <td></td>\n",
       "      <td>BY TRANSFER/Fr om A/C 1143599988</td>\n",
       "      <td></td>\n",
       "      <td>25000.00</td>\n",
       "      <td>176151.88 CR</td>\n",
       "      <td>08/01/2021</td>\n",
       "    </tr>\n",
       "    <tr>\n",
       "      <th>3</th>\n",
       "      <td>08/01/2021</td>\n",
       "      <td>08/01/2021</td>\n",
       "      <td>02684</td>\n",
       "      <td></td>\n",
       "      <td>TO TRANSFER/N EFT American Express CBINH210080...</td>\n",
       "      <td>2077.00</td>\n",
       "      <td></td>\n",
       "      <td>174074.88 CR</td>\n",
       "      <td>11/01/2021</td>\n",
       "    </tr>\n",
       "    <tr>\n",
       "      <th>4</th>\n",
       "      <td>11/01/2021</td>\n",
       "      <td>11/01/2021</td>\n",
       "      <td>02684</td>\n",
       "      <td></td>\n",
       "      <td>TO TRANSFER/T P Dewan Housing Fin CBIN00000000...</td>\n",
       "      <td>79799.00</td>\n",
       "      <td></td>\n",
       "      <td>94275.88 CR</td>\n",
       "      <td>11/01/2021</td>\n",
       "    </tr>\n",
       "    <tr>\n",
       "      <th>5</th>\n",
       "      <td>11/01/2021</td>\n",
       "      <td>11/01/2021</td>\n",
       "      <td>02684</td>\n",
       "      <td></td>\n",
       "      <td>TO TRANSFER/T P Dewan Housing Fin CBIN00000000...</td>\n",
       "      <td>39880.00</td>\n",
       "      <td></td>\n",
       "      <td>54395.88 CR</td>\n",
       "      <td>15/01/2021</td>\n",
       "    </tr>\n",
       "    <tr>\n",
       "      <th>6</th>\n",
       "      <td>15/01/2021</td>\n",
       "      <td>15/01/2021</td>\n",
       "      <td>02684</td>\n",
       "      <td></td>\n",
       "      <td>TO TRANSFER/N EFT American Express CBINH210155...</td>\n",
       "      <td>9140.00</td>\n",
       "      <td></td>\n",
       "      <td>45255.88 CR</td>\n",
       "      <td>15/01/2021</td>\n",
       "    </tr>\n",
       "  </tbody>\n",
       "</table>\n",
       "</div>"
      ],
      "text/plain": [
       "    Post Date  Value Date Branch Code Cheque Number  \\\n",
       "0  04/01/2021  04/01/2021       02684                 \n",
       "1  05/01/2021  05/01/2021       02684                 \n",
       "2  07/01/2021  07/01/2021       08103                 \n",
       "3  08/01/2021  08/01/2021       02684                 \n",
       "4  11/01/2021  11/01/2021       02684                 \n",
       "5  11/01/2021  11/01/2021       02684                 \n",
       "6  15/01/2021  15/01/2021       02684                 \n",
       "\n",
       "                                 Account Description     Debit     Credit  \\\n",
       "0  BY TRANSFER/N EFT ABDULKADA R AND SONS SDC2783...            100000.00   \n",
       "1  TO TRANSFER/H DFC BANK LIMITED CBIN00000000 01...  18724.00              \n",
       "2                   BY TRANSFER/Fr om A/C 1143599988             25000.00   \n",
       "3  TO TRANSFER/N EFT American Express CBINH210080...   2077.00              \n",
       "4  TO TRANSFER/T P Dewan Housing Fin CBIN00000000...  79799.00              \n",
       "5  TO TRANSFER/T P Dewan Housing Fin CBIN00000000...  39880.00              \n",
       "6  TO TRANSFER/N EFT American Express CBINH210155...   9140.00              \n",
       "\n",
       "        Balance  04/01/2021  \n",
       "0  169875.88 CR  05/01/2021  \n",
       "1  151151.88 CR  07/01/2021  \n",
       "2  176151.88 CR  08/01/2021  \n",
       "3  174074.88 CR  11/01/2021  \n",
       "4   94275.88 CR  11/01/2021  \n",
       "5   54395.88 CR  15/01/2021  \n",
       "6   45255.88 CR  15/01/2021  "
      ]
     },
     "execution_count": 36,
     "metadata": {},
     "output_type": "execute_result"
    }
   ],
   "source": [
    "flist[2]"
   ]
  },
  {
   "cell_type": "code",
   "execution_count": 37,
   "id": "4f9a50a2",
   "metadata": {},
   "outputs": [],
   "source": [
    "e_credit = 'Credit not matching with balance'\n",
    "e_debit = 'Debit not matching with balance'\n",
    "if not crdrsameflagcol:\n",
    "    for c, i in enumerate(flist[2].iloc[:,credit_col['column_no']]):\n",
    "        if c == 0:\n",
    "            continue\n",
    "        if (not (i is None or i == '' or i == ' ')) and (c not in credit_col['rows_matched_credit']):\n",
    "            ErrorList.append({'Error:', e_credit, 'Column:', credit_col['column_no'], 'Row:', c})\n",
    "#             print('ye', c, type(i), i, len(i))\n",
    "    for c, i in enumerate(flist[2].iloc[:,debit_col['column_no']]):\n",
    "        if c == 0:\n",
    "            continue\n",
    "        if (not (i is None or i == '' or i == ' ')) and (c not in debit_col['rows_matched_debit']):\n",
    "            ErrorList.append({'Error:', e_debit, 'Column:', debit_col['column_no'], 'Row:', c})\n",
    "#             print('yee', c, type(i), i, len(i))\n"
   ]
  },
  {
   "cell_type": "code",
   "execution_count": 39,
   "id": "20bccf01",
   "metadata": {},
   "outputs": [
    {
     "data": {
      "text/plain": [
       "[]"
      ]
     },
     "execution_count": 39,
     "metadata": {},
     "output_type": "execute_result"
    }
   ],
   "source": [
    "for i in ErrorList:\n",
    "    print(i)\n",
    "ErrorList"
   ]
  },
  {
   "cell_type": "code",
   "execution_count": null,
   "id": "bf2426c5",
   "metadata": {},
   "outputs": [],
   "source": []
  }
 ],
 "metadata": {
  "kernelspec": {
   "display_name": "Python 3 (ipykernel)",
   "language": "python",
   "name": "python3"
  },
  "language_info": {
   "codemirror_mode": {
    "name": "ipython",
    "version": 3
   },
   "file_extension": ".py",
   "mimetype": "text/x-python",
   "name": "python",
   "nbconvert_exporter": "python",
   "pygments_lexer": "ipython3",
   "version": "3.8.3"
  }
 },
 "nbformat": 4,
 "nbformat_minor": 5
}
